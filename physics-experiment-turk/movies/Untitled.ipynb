{
 "cells": [
  {
   "cell_type": "code",
   "execution_count": 5,
   "metadata": {
    "collapsed": false
   },
   "outputs": [
    {
     "data": {
      "text/plain": [
       "'world1/world1'"
      ]
     },
     "execution_count": 5,
     "metadata": {},
     "output_type": "execute_result"
    }
   ],
   "source": [
    "loc"
   ]
  },
  {
   "cell_type": "code",
   "execution_count": 8,
   "metadata": {
    "collapsed": false
   },
   "outputs": [
    {
     "name": "stdout",
     "output_type": "stream",
     "text": [
      "2\n",
      "1 2 3 4 5 6 3\n",
      "1 2 3 4 5 6 4\n",
      "1 2 3 4 5 6 5\n",
      "1 2 3 4 5 6 6\n",
      "1 2 3 4 5 6 7\n",
      "1 2 3 4 5 6 8\n",
      "1 2 3 4 5 6 9\n",
      "1 2 3 4 5 6 10\n",
      "1 2 3 4 5 6\n"
     ]
    }
   ],
   "source": [
    "for wi in range(2,11):\n",
    "    print wi\n",
    "    for si in range(1,7):\n",
    "        print si,\n",
    "        loc = \"world\" + str(wi) + \"/world\" + str(wi) + \"_\" + str(si)\n",
    "        os.system(\"ffmpeg -i \" + loc + \".mp4 -vcodec libx264 \" + loc + \"a.mp4\")"
   ]
  },
  {
   "cell_type": "code",
   "execution_count": 10,
   "metadata": {
    "collapsed": false
   },
   "outputs": [
    {
     "name": "stdout",
     "output_type": "stream",
     "text": [
      " 2\n",
      "1 2 3 4 5 6 3\n",
      "1 2 3 4 5 6 4\n",
      "1 2 3 4 5 6 5\n",
      "1 2 3 4 5 6 6\n",
      "1 2 3 4 5 6 7\n",
      "1 2 3 4 5 6 8\n",
      "1 2 3 4 5 6 9\n",
      "1 2 3 4 5 6 10\n",
      "1 2 3 4 5 6\n"
     ]
    }
   ],
   "source": [
    "for wi in range(2,11):\n",
    "    print wi\n",
    "    for si in range(1,7):\n",
    "        print si,\n",
    "        loc = \"world\" + str(wi) + \"/world\" + str(wi) + \"_\" + str(si)\n",
    "        os.system(\"rm \" + loc + \".mp4\")\n",
    "        os.system(\"mv \" + loc + \"a.mp4\" + \" \" + loc + \".mp4\")"
   ]
  }
 ],
 "metadata": {
  "kernelspec": {
   "display_name": "Python 2",
   "language": "python",
   "name": "python2"
  },
  "language_info": {
   "codemirror_mode": {
    "name": "ipython",
    "version": 2
   },
   "file_extension": ".py",
   "mimetype": "text/x-python",
   "name": "python",
   "nbconvert_exporter": "python",
   "pygments_lexer": "ipython2",
   "version": "2.7.11"
  }
 },
 "nbformat": 4,
 "nbformat_minor": 0
}
